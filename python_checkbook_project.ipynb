{
 "cells": [
  {
   "cell_type": "code",
   "execution_count": 92,
   "id": "4f7c520a-2ba1-4e68-99cd-9a17c91cb99d",
   "metadata": {
    "tags": []
   },
   "outputs": [
    {
     "name": "stdout",
     "output_type": "stream",
     "text": [
      "~~~ Welcome to your terminal checkbook! ~~~\n",
      "\n",
      "What would you like to do?\n",
      "\n",
      "1) view current balance\n",
      "2) record a debit (withdraw)\n",
      "3) record a credit (deposit)\n",
      "4) exit\n",
      "\n"
     ]
    }
   ],
   "source": [
    "def options():\n",
    "    print('What would you like to do?\\n')\n",
    "    print('1) view current balance')\n",
    "    print('2) record a debit (withdraw)')\n",
    "    print('3) record a credit (deposit)')\n",
    "    print('4) exit\\n')\n",
    "    \n",
    "def balance():\n",
    "    with open('balance.txt') as f:\n",
    "        balance = float(f.read())\n",
    "    print(f'\\nYour current balance is ${balance:.2f}.')\n",
    "    \n",
    "def debit():\n",
    "    with open('balance.txt') as f:\n",
    "         balance = float(f.read())\n",
    "    debit_amount = float(input('How much is the debit?'))\n",
    "    balance_with_debit = str(balance + debit_amount)\n",
    "    with open('balance.txt', 'w') as f:\n",
    "        f.write(balance_with_debit)\n",
    "\n",
    "def credit():\n",
    "    with open('balance.txt') as f:\n",
    "         balance = float(f.read())\n",
    "    credit_amount = float(input('How much is the credit?'))\n",
    "    balance_with_credit = str(balance - credit_amount)\n",
    "    with open('balance.txt', 'w') as f:\n",
    "        f.write(balance_with_credit)\n",
    "        \n",
    "def exit():\n",
    "    print('Thanks, have a great day!')\n",
    "    \n",
    "greeting = '~~~ Welcome to your terminal checkbook! ~~~\\n'\n",
    "\n",
    "print(greeting)\n",
    "options()"
   ]
  },
  {
   "cell_type": "code",
   "execution_count": 93,
   "id": "6e443fc3-a0eb-4003-9ce7-2f0a8a14c7d7",
   "metadata": {
    "tags": []
   },
   "outputs": [
    {
     "name": "stdin",
     "output_type": "stream",
     "text": [
      "Your choice?  5\n"
     ]
    },
    {
     "name": "stdout",
     "output_type": "stream",
     "text": [
      "Invalid choice: 5\n"
     ]
    },
    {
     "name": "stdin",
     "output_type": "stream",
     "text": [
      "Your choice?  6\n"
     ]
    },
    {
     "name": "stdout",
     "output_type": "stream",
     "text": [
      "Invalid choice: 6\n"
     ]
    },
    {
     "name": "stdin",
     "output_type": "stream",
     "text": [
      "Your choice?  2\n",
      "How much is the debit? 50\n",
      "Your choice?  1\n"
     ]
    },
    {
     "name": "stdout",
     "output_type": "stream",
     "text": [
      "\n",
      "Your current balance is $100.00.\n"
     ]
    },
    {
     "ename": "KeyboardInterrupt",
     "evalue": "Interrupted by user",
     "output_type": "error",
     "traceback": [
      "\u001b[0;31m---------------------------------------------------------------------------\u001b[0m",
      "\u001b[0;31mKeyboardInterrupt\u001b[0m                         Traceback (most recent call last)",
      "Cell \u001b[0;32mIn[93], line 2\u001b[0m\n\u001b[1;32m      1\u001b[0m \u001b[38;5;28;01mwhile\u001b[39;00m \u001b[38;5;28;01mTrue\u001b[39;00m:\n\u001b[0;32m----> 2\u001b[0m     choice \u001b[38;5;241m=\u001b[39m \u001b[38;5;28minput\u001b[39m(\u001b[38;5;124m'\u001b[39m\u001b[38;5;124mYour choice? \u001b[39m\u001b[38;5;124m'\u001b[39m)\n\u001b[1;32m      3\u001b[0m     \u001b[38;5;28;01mif\u001b[39;00m choice\u001b[38;5;241m.\u001b[39misdigit() \u001b[38;5;241m==\u001b[39m \u001b[38;5;28;01mTrue\u001b[39;00m \u001b[38;5;129;01mand\u001b[39;00m \u001b[38;5;241m0\u001b[39m \u001b[38;5;241m<\u001b[39m \u001b[38;5;28mint\u001b[39m(choice) \u001b[38;5;241m<\u001b[39m \u001b[38;5;241m5\u001b[39m:\n\u001b[1;32m      4\u001b[0m         choice \u001b[38;5;241m=\u001b[39m \u001b[38;5;28mint\u001b[39m(choice)\n",
      "File \u001b[0;32m/opt/homebrew/anaconda3/lib/python3.11/site-packages/ipykernel/kernelbase.py:1202\u001b[0m, in \u001b[0;36mKernel.raw_input\u001b[0;34m(self, prompt)\u001b[0m\n\u001b[1;32m   1200\u001b[0m     msg \u001b[38;5;241m=\u001b[39m \u001b[38;5;124m\"\u001b[39m\u001b[38;5;124mraw_input was called, but this frontend does not support input requests.\u001b[39m\u001b[38;5;124m\"\u001b[39m\n\u001b[1;32m   1201\u001b[0m     \u001b[38;5;28;01mraise\u001b[39;00m StdinNotImplementedError(msg)\n\u001b[0;32m-> 1202\u001b[0m \u001b[38;5;28;01mreturn\u001b[39;00m \u001b[38;5;28mself\u001b[39m\u001b[38;5;241m.\u001b[39m_input_request(\n\u001b[1;32m   1203\u001b[0m     \u001b[38;5;28mstr\u001b[39m(prompt),\n\u001b[1;32m   1204\u001b[0m     \u001b[38;5;28mself\u001b[39m\u001b[38;5;241m.\u001b[39m_parent_ident[\u001b[38;5;124m\"\u001b[39m\u001b[38;5;124mshell\u001b[39m\u001b[38;5;124m\"\u001b[39m],\n\u001b[1;32m   1205\u001b[0m     \u001b[38;5;28mself\u001b[39m\u001b[38;5;241m.\u001b[39mget_parent(\u001b[38;5;124m\"\u001b[39m\u001b[38;5;124mshell\u001b[39m\u001b[38;5;124m\"\u001b[39m),\n\u001b[1;32m   1206\u001b[0m     password\u001b[38;5;241m=\u001b[39m\u001b[38;5;28;01mFalse\u001b[39;00m,\n\u001b[1;32m   1207\u001b[0m )\n",
      "File \u001b[0;32m/opt/homebrew/anaconda3/lib/python3.11/site-packages/ipykernel/kernelbase.py:1245\u001b[0m, in \u001b[0;36mKernel._input_request\u001b[0;34m(self, prompt, ident, parent, password)\u001b[0m\n\u001b[1;32m   1242\u001b[0m \u001b[38;5;28;01mexcept\u001b[39;00m \u001b[38;5;167;01mKeyboardInterrupt\u001b[39;00m:\n\u001b[1;32m   1243\u001b[0m     \u001b[38;5;66;03m# re-raise KeyboardInterrupt, to truncate traceback\u001b[39;00m\n\u001b[1;32m   1244\u001b[0m     msg \u001b[38;5;241m=\u001b[39m \u001b[38;5;124m\"\u001b[39m\u001b[38;5;124mInterrupted by user\u001b[39m\u001b[38;5;124m\"\u001b[39m\n\u001b[0;32m-> 1245\u001b[0m     \u001b[38;5;28;01mraise\u001b[39;00m \u001b[38;5;167;01mKeyboardInterrupt\u001b[39;00m(msg) \u001b[38;5;28;01mfrom\u001b[39;00m \u001b[38;5;28;01mNone\u001b[39;00m\n\u001b[1;32m   1246\u001b[0m \u001b[38;5;28;01mexcept\u001b[39;00m \u001b[38;5;167;01mException\u001b[39;00m:\n\u001b[1;32m   1247\u001b[0m     \u001b[38;5;28mself\u001b[39m\u001b[38;5;241m.\u001b[39mlog\u001b[38;5;241m.\u001b[39mwarning(\u001b[38;5;124m\"\u001b[39m\u001b[38;5;124mInvalid Message:\u001b[39m\u001b[38;5;124m\"\u001b[39m, exc_info\u001b[38;5;241m=\u001b[39m\u001b[38;5;28;01mTrue\u001b[39;00m)\n",
      "\u001b[0;31mKeyboardInterrupt\u001b[0m: Interrupted by user"
     ]
    }
   ],
   "source": [
    "while True:\n",
    "    choice = input('Your choice? ')\n",
    "    if choice.isdigit() == True and 0 < int(choice) < 5:\n",
    "        choice = int(choice)\n",
    "        if choice == 1:\n",
    "            balance()\n",
    "        elif choice == 2:\n",
    "            debit()\n",
    "        elif choice == 3:\n",
    "            credit()\n",
    "        else:\n",
    "            exit()\n",
    "        \n",
    "        \n",
    "        \n",
    "        \n",
    "        \n",
    "        \n",
    "    else:\n",
    "        print(f'Invalid choice: {choice}\\n')"
   ]
  },
  {
   "cell_type": "code",
   "execution_count": 67,
   "id": "0e224ca9-718f-4afc-8123-bc3d0e5f3f29",
   "metadata": {
    "tags": []
   },
   "outputs": [
    {
     "name": "stdout",
     "output_type": "stream",
     "text": [
      "50.00\n"
     ]
    }
   ],
   "source": [
    "with open('balance.txt') as f:\n",
    "    balance = float(f.read())\n",
    "\n",
    "print(f'{balance:.2f}')"
   ]
  },
  {
   "cell_type": "code",
   "execution_count": 64,
   "id": "d4cc5342-9e30-4486-801b-e09bf82b49a7",
   "metadata": {
    "tags": []
   },
   "outputs": [
    {
     "data": {
      "text/plain": [
       "CompletedProcess(args=['code', 'balance.txt'], returncode=0)"
      ]
     },
     "execution_count": 64,
     "metadata": {},
     "output_type": "execute_result"
    }
   ],
   "source": [
    "subprocess.run(['code','balance.txt'])"
   ]
  },
  {
   "cell_type": "code",
   "execution_count": 69,
   "id": "853ef16b-6316-409e-b2b1-e70cb6e01bf2",
   "metadata": {
    "tags": []
   },
   "outputs": [
    {
     "name": "stdout",
     "output_type": "stream",
     "text": [
      "~~~ Welcome to your terminal checkbook! ~~~\n",
      "\n",
      "What would you like to do?\n",
      "\n",
      "1) view current balance\n",
      "2) record a debit (withdraw)\n",
      "3) record a credit (deposit)\n",
      "4) exit\n"
     ]
    }
   ],
   "source": [
    "print('~~~ Welcome to your terminal checkbook! ~~~\\n')\n",
    "\n",
    "\n",
    "print('What would you like to do?\\n')\n",
    "print('1) view current balance')\n",
    "print('2) record a debit (withdraw)')\n",
    "print('3) record a credit (deposit)')\n",
    "print('4) exit\\n')"
   ]
  },
  {
   "cell_type": "code",
   "execution_count": 81,
   "id": "b1a6a103-f80c-4862-978e-71d7a4aa5216",
   "metadata": {
    "tags": []
   },
   "outputs": [
    {
     "name": "stdin",
     "output_type": "stream",
     "text": [
      "Enter an odd number between 1 and 50:  apple\n"
     ]
    },
    {
     "name": "stdout",
     "output_type": "stream",
     "text": [
      "\n",
      "Number to skip is: apple\n",
      "Invalid input! Enter an odd number between 1 and 50.\n"
     ]
    },
    {
     "name": "stdin",
     "output_type": "stream",
     "text": [
      "Enter an odd number between 1 and 50:  46\n"
     ]
    },
    {
     "name": "stdout",
     "output_type": "stream",
     "text": [
      "\n",
      "Number to skip is: 46\n",
      "Invalid input! Enter an odd number between 1 and 50.\n"
     ]
    },
    {
     "ename": "KeyboardInterrupt",
     "evalue": "Interrupted by user",
     "output_type": "error",
     "traceback": [
      "\u001b[0;31m---------------------------------------------------------------------------\u001b[0m",
      "\u001b[0;31mKeyboardInterrupt\u001b[0m                         Traceback (most recent call last)",
      "Cell \u001b[0;32mIn[81], line 6\u001b[0m\n\u001b[1;32m      1\u001b[0m \u001b[38;5;66;03m# while True is a way to perpetually (always) be True with a while loop\u001b[39;00m\n\u001b[1;32m      2\u001b[0m \u001b[38;5;66;03m# until using a break statement\u001b[39;00m\n\u001b[1;32m      4\u001b[0m \u001b[38;5;28;01mwhile\u001b[39;00m \u001b[38;5;28;01mTrue\u001b[39;00m:\n\u001b[1;32m      5\u001b[0m     \u001b[38;5;66;03m# collect user input\u001b[39;00m\n\u001b[0;32m----> 6\u001b[0m     user_input \u001b[38;5;241m=\u001b[39m \u001b[38;5;28minput\u001b[39m(\u001b[38;5;124m'\u001b[39m\u001b[38;5;124mEnter an odd number between 1 and 50: \u001b[39m\u001b[38;5;124m'\u001b[39m)\n\u001b[1;32m      8\u001b[0m     \u001b[38;5;66;03m# print required output\u001b[39;00m\n\u001b[1;32m      9\u001b[0m     \u001b[38;5;28mprint\u001b[39m(\u001b[38;5;124mf\u001b[39m\u001b[38;5;124m'\u001b[39m\u001b[38;5;130;01m\\n\u001b[39;00m\u001b[38;5;124mNumber to skip is: \u001b[39m\u001b[38;5;132;01m{\u001b[39;00muser_input\u001b[38;5;132;01m}\u001b[39;00m\u001b[38;5;124m'\u001b[39m)\n",
      "File \u001b[0;32m/opt/homebrew/anaconda3/lib/python3.11/site-packages/ipykernel/kernelbase.py:1202\u001b[0m, in \u001b[0;36mKernel.raw_input\u001b[0;34m(self, prompt)\u001b[0m\n\u001b[1;32m   1200\u001b[0m     msg \u001b[38;5;241m=\u001b[39m \u001b[38;5;124m\"\u001b[39m\u001b[38;5;124mraw_input was called, but this frontend does not support input requests.\u001b[39m\u001b[38;5;124m\"\u001b[39m\n\u001b[1;32m   1201\u001b[0m     \u001b[38;5;28;01mraise\u001b[39;00m StdinNotImplementedError(msg)\n\u001b[0;32m-> 1202\u001b[0m \u001b[38;5;28;01mreturn\u001b[39;00m \u001b[38;5;28mself\u001b[39m\u001b[38;5;241m.\u001b[39m_input_request(\n\u001b[1;32m   1203\u001b[0m     \u001b[38;5;28mstr\u001b[39m(prompt),\n\u001b[1;32m   1204\u001b[0m     \u001b[38;5;28mself\u001b[39m\u001b[38;5;241m.\u001b[39m_parent_ident[\u001b[38;5;124m\"\u001b[39m\u001b[38;5;124mshell\u001b[39m\u001b[38;5;124m\"\u001b[39m],\n\u001b[1;32m   1205\u001b[0m     \u001b[38;5;28mself\u001b[39m\u001b[38;5;241m.\u001b[39mget_parent(\u001b[38;5;124m\"\u001b[39m\u001b[38;5;124mshell\u001b[39m\u001b[38;5;124m\"\u001b[39m),\n\u001b[1;32m   1206\u001b[0m     password\u001b[38;5;241m=\u001b[39m\u001b[38;5;28;01mFalse\u001b[39;00m,\n\u001b[1;32m   1207\u001b[0m )\n",
      "File \u001b[0;32m/opt/homebrew/anaconda3/lib/python3.11/site-packages/ipykernel/kernelbase.py:1245\u001b[0m, in \u001b[0;36mKernel._input_request\u001b[0;34m(self, prompt, ident, parent, password)\u001b[0m\n\u001b[1;32m   1242\u001b[0m \u001b[38;5;28;01mexcept\u001b[39;00m \u001b[38;5;167;01mKeyboardInterrupt\u001b[39;00m:\n\u001b[1;32m   1243\u001b[0m     \u001b[38;5;66;03m# re-raise KeyboardInterrupt, to truncate traceback\u001b[39;00m\n\u001b[1;32m   1244\u001b[0m     msg \u001b[38;5;241m=\u001b[39m \u001b[38;5;124m\"\u001b[39m\u001b[38;5;124mInterrupted by user\u001b[39m\u001b[38;5;124m\"\u001b[39m\n\u001b[0;32m-> 1245\u001b[0m     \u001b[38;5;28;01mraise\u001b[39;00m \u001b[38;5;167;01mKeyboardInterrupt\u001b[39;00m(msg) \u001b[38;5;28;01mfrom\u001b[39;00m \u001b[38;5;28;01mNone\u001b[39;00m\n\u001b[1;32m   1246\u001b[0m \u001b[38;5;28;01mexcept\u001b[39;00m \u001b[38;5;167;01mException\u001b[39;00m:\n\u001b[1;32m   1247\u001b[0m     \u001b[38;5;28mself\u001b[39m\u001b[38;5;241m.\u001b[39mlog\u001b[38;5;241m.\u001b[39mwarning(\u001b[38;5;124m\"\u001b[39m\u001b[38;5;124mInvalid Message:\u001b[39m\u001b[38;5;124m\"\u001b[39m, exc_info\u001b[38;5;241m=\u001b[39m\u001b[38;5;28;01mTrue\u001b[39;00m)\n",
      "\u001b[0;31mKeyboardInterrupt\u001b[0m: Interrupted by user"
     ]
    }
   ],
   "source": [
    "# while True is a way to perpetually (always) be True with a while loop\n",
    "# until using a break statement\n",
    "\n",
    "while True:\n",
    "    # collect user input\n",
    "    user_input = input('Enter an odd number between 1 and 50: ')\n",
    "    \n",
    "    # print required output\n",
    "    print(f'\\nNumber to skip is: {user_input}')\n",
    "    \n",
    "    # check if number is an integer\n",
    "    if isinstance(user_input, int):\n",
    "        \n",
    "        # check if number is between 1 and 50 and is odd\n",
    "        if 1 <= user_input <= 50 and user_input % 2 == 1:\n",
    "            \n",
    "            # loop over the numbers 1 thru 50\n",
    "            for i in range(1,51,2):\n",
    "                \n",
    "                # check if i equals user_input so we can skip it!\n",
    "                if i == user_input:\n",
    "                    \n",
    "                    # print out required input\n",
    "                    print(f'Yikes! Skipping number: {user_input}')\n",
    "                    \n",
    "                    # Most important part to skip this number\n",
    "                    # not printing 'Here is an odd number' & skips to \n",
    "                    # the next iteration in the for loop\n",
    "                    \n",
    "                    continue\n",
    "                # alternative to not being equal to user input\n",
    "                else:\n",
    "                    pass # difference between pass and continue \n",
    "                            # just skips to next line\n",
    "                \n",
    "                # if not equal to user input then print the required output\n",
    "                print(f'Here is an odd number: {i}')\n",
    "                \n",
    "            # breaking the while loop \n",
    "            break\n",
    "        \n",
    "        # alternative state if user_input is not between 1 and 50 or odd\n",
    "        else:\n",
    "            print('Invalid input! Enter an odd number between 1 and 50.')\n",
    "   \n",
    "    # alternative state if user_input is not an integer\n",
    "    else:\n",
    "        print('Invalid input! Enter an odd number between 1 and 50.')"
   ]
  },
  {
   "cell_type": "code",
   "execution_count": null,
   "id": "d4c5e4a7-01a3-48e1-9f64-b10161ad00f1",
   "metadata": {},
   "outputs": [],
   "source": []
  }
 ],
 "metadata": {
  "kernelspec": {
   "display_name": "Python 3 (ipykernel)",
   "language": "python",
   "name": "python3"
  },
  "language_info": {
   "codemirror_mode": {
    "name": "ipython",
    "version": 3
   },
   "file_extension": ".py",
   "mimetype": "text/x-python",
   "name": "python",
   "nbconvert_exporter": "python",
   "pygments_lexer": "ipython3",
   "version": "3.11.5"
  }
 },
 "nbformat": 4,
 "nbformat_minor": 5
}
